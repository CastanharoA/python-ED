{
  "nbformat": 4,
  "nbformat_minor": 0,
  "metadata": {
    "colab": {
      "name": "Parte 1 - ED ",
      "provenance": [],
      "authorship_tag": "ABX9TyMapszOHrslDCymAIHG26Wc",
      "include_colab_link": true
    },
    "kernelspec": {
      "name": "python3",
      "display_name": "Python 3"
    },
    "language_info": {
      "name": "python"
    }
  },
  "cells": [
    {
      "cell_type": "markdown",
      "metadata": {
        "id": "view-in-github",
        "colab_type": "text"
      },
      "source": [
        "<a href=\"https://colab.research.google.com/github/CastanharoA/python-ED/blob/main/Parte_1_ED.ipynb\" target=\"_parent\"><img src=\"https://colab.research.google.com/assets/colab-badge.svg\" alt=\"Open In Colab\"/></a>"
      ]
    },
    {
      "cell_type": "code",
      "execution_count": null,
      "metadata": {
        "id": "DU1GiM50RfGL"
      },
      "outputs": [],
      "source": [
        ""
      ]
    },
    {
      "cell_type": "markdown",
      "source": [
        "LISTA DE EXERCÍCIOS EM PYTHON:\n",
        "\n",
        "0 crie uma função \n",
        "usar metodo split/upper/sprit/lower/captalize /type/append/del/clear\n",
        "if\n",
        "elif\n",
        "else\n",
        "\n",
        "while len \n",
        "for i range \n",
        "\n",
        "\n",
        "\n",
        "\n",
        "1.ª) Faça um programa que leia dois valores e informe a média entre eles.\n",
        "\n",
        "2.ª) Faça um programa que receba peso e altura e calcule o IMC pela fórmula:\n",
        "\n",
        "IMC = Peso ÷ (Altura × Altura).\n",
        "\n",
        "De acordo com o IMC EXIBA UMA MENSAGEM COM A C CLASSIFICAÇÃO DO PESO:\n",
        "\n",
        "3.ª) Calcular e apresentar o valor do volume de uma lata de óleo, utilizando a fórmula: VOLUME = 3.14159 * R2 * ALTURA.\n",
        "\n",
        "4.ª) Faça um programa que leia 5 valores e informe o valor do maior.\n",
        "\n",
        "5.ª) Solicitar o consumo médio de um veículo, bem como o tempo de viagem e a velocidade média. Com base nestas informações:\n",
        "\n",
        "Efetuar o cálculo da quantidade de litros de combustível gastos em uma viagem, utilizando-se um automóvel que faz “x” km/l.\n",
        "\n",
        "Para obter o cálculo, o usuário deverá fornecer o tempo gasto na viagem e a velocidade média durante a mesma.\n",
        "\n",
        "Desta forma será possível obter a distância percorrida com a fórmula: DISTÂNCIA= TEMPO * VELOCIDADE. Tendo o valor da distância, basta calcular a quantidade de litros de combustível utilizada na viagem com a fórmula: LITROS_USADOS=DISTÂNCIA / “x”. O programa deverá apresentar os valores da velocidade média, tempo gasto na viagem, a distância percorrida e a quantidade de litros utilizada na viagem\n",
        "\n",
        "6. Calculo IMC \n",
        "7, Concentue pilha\n",
        "8. concentua fila \n",
        "\n",
        "\n",
        "\n",
        "aula 2 \n",
        "nome salario \n",
        "nota media \n",
        "\n",
        "aula 3 \n",
        "laços de repetição \n",
        "[1:2 ]\n",
        "\n",
        "lista \n",
        "add \n",
        "del \n",
        "peint\n",
        "type\n",
        "insert  1, \" orange\"\n",
        "append\n",
        "pop(), pop (-2)\n",
        "\n",
        "\n",
        "\n",
        "\n",
        "\n",
        "\n",
        "\n"
      ],
      "metadata": {
        "id": "Ddcqinm7SO5g"
      }
    },
    {
      "cell_type": "code",
      "source": [
        "#Faça um programa que leia dois valores e informe a média entre eles.\n",
        "\n",
        "\n",
        "\n",
        "N1 = int(input(\"Digite um numero: \"  ))\n",
        "N2 = int(input(\"Digite  outro numero: \"  ))\n",
        "\n",
        "Media = (N1 + N2)/2\n",
        "print(Media)"
      ],
      "metadata": {
        "colab": {
          "base_uri": "https://localhost:8080/"
        },
        "id": "HuY56c7259Iv",
        "outputId": "14bd0ebd-967c-4500-88cb-2bc8d3779534"
      },
      "execution_count": null,
      "outputs": [
        {
          "output_type": "stream",
          "name": "stdout",
          "text": [
            "Digite um numero: 10\n",
            "Digite  outro numero: 10\n",
            "10.0\n"
          ]
        }
      ]
    },
    {
      "cell_type": "code",
      "source": [
        "#Faça um programa que receba peso e altura e calcule o IMC pela fórmula: IMC = Peso ÷ (Altura × Altura).\n",
        "\n",
        "peso= float(input(\"Digite seu peso numero: \"  ))\n",
        "altura= float(input(\"Digite sua altura\"  ))\n",
        "\n",
        "IMC = peso / (altura * altura)\n",
        "\n",
        "if IMC < 18:\n",
        "   print(\"ok\")\n",
        "\n",
        "elif IMC >= 18 and IMC < 29.9:\n",
        "   print(\"2\")\n",
        "\n",
        "else:\n",
        "   print(\"ah\")\n",
        "\n"
      ],
      "metadata": {
        "colab": {
          "base_uri": "https://localhost:8080/",
          "height": 0
        },
        "id": "xduI8reW63uE",
        "outputId": "d3eeb371-6276-4768-8523-c5e9a2325ff1"
      },
      "execution_count": 7,
      "outputs": [
        {
          "output_type": "stream",
          "name": "stdout",
          "text": [
            "Digite seu peso numero: 50\n",
            "Digite sua altura1.50\n",
            "2\n"
          ]
        }
      ]
    },
    {
      "cell_type": "code",
      "source": [
        "# Calcular e apresentar o valor do volume de uma lata de óleo, utilizando a fórmula: VOLUME = 3.14159 * R2 * ALTURA.\n",
        "\n",
        "\n",
        "altura = float(input(\" qual a altura da lata? \"))\n",
        "raio = float(input(\"qual o raio da lata\" ))\n",
        "\n",
        "Raio = raio ** raio\n",
        "VOLUME = 3.14159 * Raio * altura\n",
        "\n",
        "print(VOLUME)\n"
      ],
      "metadata": {
        "colab": {
          "base_uri": "https://localhost:8080/",
          "height": 0
        },
        "id": "_ybUuD5LOn7q",
        "outputId": "fb8424b2-7419-484b-8084-51ae083a63eb"
      },
      "execution_count": 9,
      "outputs": [
        {
          "output_type": "stream",
          "name": "stdout",
          "text": [
            " qual a altura da lata? 10\n",
            "qual o raio da lata20\n",
            "3.2941958758399995e+27\n"
          ]
        }
      ]
    },
    {
      "cell_type": "code",
      "source": [
        "# Faça um programa que leia 5 valores e informe o valor do maior.\n",
        "\n",
        "lista1= [ ]   #criar uma lista vazia \n",
        "\n",
        "for valor in range (5):   #coloco o limite de 5\n",
        "  valor = float(input(\"digite um valor\")) #recebo valor \n",
        "  lista1.append(valor)  #acrescentar valor na lista \n",
        "  valormaior = max(lista1)\n",
        "print(lista1)\n",
        "#print(max(lista1)\n",
        "print( \"o maior valor da lista é:,\" ,valormaior)\n",
        "\n",
        "\n",
        "\n"
      ],
      "metadata": {
        "id": "xCN0Q9-4R41I"
      },
      "execution_count": null,
      "outputs": []
    },
    {
      "cell_type": "code",
      "source": [
        "lista1 = []\n",
        "\n",
        "for valor in range (5):\n",
        "  valor = float(input(\"digite um valor\"))\n",
        "  lista1.append(valor)\n",
        "\n",
        "  valormaior = max(lista1)\n",
        "  print(lista1)\n",
        "  print( f'o maior valor da lista é:,' ,valormaior)\n"
      ],
      "metadata": {
        "id": "HDrXOkrySgcQ"
      },
      "execution_count": null,
      "outputs": []
    },
    {
      "cell_type": "code",
      "source": [
        "lista1 = []  # refazder  \n",
        "\n",
        "for valor in range (5):\n",
        " valor = float(input(\"digite um valor\"))\n",
        " lista1.append(valor)\n",
        "\n",
        " maior_valor = max(lista1) \n",
        " print(f' o maior valor é { maior_valor } ')"
      ],
      "metadata": {
        "colab": {
          "base_uri": "https://localhost:8080/",
          "height": 0
        },
        "id": "4ujHU0krTP31",
        "outputId": "bc4a8b29-6a7f-4b31-a3fd-c592bfc62f66"
      },
      "execution_count": 27,
      "outputs": [
        {
          "output_type": "stream",
          "name": "stdout",
          "text": [
            "digite um valor10\n",
            " o maior valor é 10.0 \n",
            "digite um valor9\n",
            " o maior valor é 10.0 \n",
            "digite um valor9\n",
            " o maior valor é 10.0 \n",
            "digite um valor9\n",
            " o maior valor é 10.0 \n",
            "digite um valor9\n",
            " o maior valor é 10.0 \n"
          ]
        }
      ]
    },
    {
      "cell_type": "code",
      "source": [
        "#Concentue pilha\n"
      ],
      "metadata": {
        "id": "CeaG0LM4c-kW"
      },
      "execution_count": null,
      "outputs": []
    },
    {
      "cell_type": "markdown",
      "source": [
        " conceito\n",
        " pilha:  é um tipo de lista  com o conceito de ordenação  LIFO  ( last in first out) de retida e entrada de objeto, o ultimo a entrar é o primeiro a sair  \n",
        "\n",
        "\n",
        " \n",
        " \n",
        " pilhas  operações \n",
        "1. add elemento  = push ( eu empurro para receber um novo  elemento )\n",
        "2. remove = pop ( remove o elemento no topo da pilha) \n",
        "3. top =  informação ( nos da a informação do elemento que esta no top )\n",
        "4. is_empty  ( verificar se apilha esta vazia - a resposta sera V ou F )\n",
        "5. is_full   (avisa se ta cheira\n",
        "\n",
        "\n",
        "\n",
        "o ultimo a entrar é o primeiro a sair \n",
        "\n",
        "       em uma pilha o ultimo elemento a ser inserido (  empilhado  ) é o \n",
        "       primeio a ser removido ( desempilhado ) . eles tem uma estrutura     LIFO ( last to in is the First go out ) \n",
        "\n",
        "utilização : CTRL Z \n"
      ],
      "metadata": {
        "id": "bxB3c89JjHbY"
      }
    },
    {
      "cell_type": "code",
      "source": [
        "#Concentue fila"
      ],
      "metadata": {
        "id": "BghozfktdECB"
      },
      "execution_count": null,
      "outputs": []
    },
    {
      "cell_type": "code",
      "source": [
        "pila e listas\n",
        "\n",
        "adicionar elementos na lista primeiro criaar uma lista\n",
        "\n",
        "para fazsr um push = appende appemd(push) remover = pop consulta top print[:-1] ultimo elemento lisra [:-1]\n",
        "\n",
        "append + 1 append[1] = ( 0 , 1 )"
      ],
      "metadata": {
        "id": "7EV5gy-bdElQ"
      },
      "execution_count": null,
      "outputs": []
    },
    {
      "cell_type": "markdown",
      "source": [
        ""
      ],
      "metadata": {
        "id": "57p6f-v0y49Q"
      }
    },
    {
      "cell_type": "markdown",
      "source": [
        "Fila\n",
        "\n",
        "FIFO ( FIRST IN FIRST OUT ) \n",
        " fila  representa ordem de chegada primeiro que entrou é o primeiro a sair\n",
        "\n",
        "enfileirar = enqueue ( inserir novo elmente no final da fila )\n",
        "desinfeileirar = dequeue ( retorna o elemento na primeiro posição )\n",
        "\n",
        "elemento 0 é o primeiro ( mais antigo ) , sempre vou tirar o elemento 0"
      ],
      "metadata": {
        "id": "0tWWXzCxy7iW"
      }
    },
    {
      "cell_type": "code",
      "source": [
        "#Lista = [ ]\n",
        "lista = [ \"joao\" , \"maria\" , \"joana\"]\n",
        "print(lista)\n",
        "#append.lista(\"apple\",\"banana\")\n",
        "print(type(lista))\n",
        "#insert inclui na posição que vc incluir\n",
        "lista.insert(0,\"5\")\n",
        "print(lista)\n",
        "# append inclui no fim \n",
        "lista.append(\"6\")\n",
        "print(lista)\n",
        "\n",
        "lista3 = { \"joao\" , \"maria\" , \"joana\"}\n",
        "lista1 = [ \"joao\" , \"maria\" , \"joana\"]\n",
        "lista2= ( \"joao\" , \"maria\" , \"joana\")   \n",
        "print(type(lista3))\n",
        "print(type(lista1))\n",
        "print(type(lista2))\n",
        "print(len(lista))\n",
        "#extend juntar tupla na lista\n",
        "\n",
        "lista1 = [ \"joao\" , \"maria\" , \"joana\"]\n",
        "lista2 = ( \"joao\" , \"maria\" , \"joana\")\n",
        "\n",
        "lista1.extend(lista2)\n",
        "print(lista1)\n",
        "#remove\n",
        "\n",
        "lista1 = [ \"joao\" , \"maria\" , \"joana\"]\n",
        "\n",
        "lista1.remove(\"joao\")\n",
        "print(lista1)\n",
        "#remove\n",
        "\n",
        "lista1 = [ \"joao\" , \"maria\" , \"joana\"]\n",
        "print([1])\n",
        "#pop ( indice ) remove por indice \n",
        "\n",
        "lista1 = [ \"joao\" , \"maria\" , \"joana\"]\n",
        "\n",
        "lista1.pop(0)\n",
        "print(lista)\n",
        "#pop ( indice ) remove por indice \n",
        "\n",
        "lista1 = [ \"joao\" , \"maria\" , \"joana\"]\n",
        "\n",
        "lista1.pop(0)\n",
        "print(lista)\n",
        "lista1 = [ \"joao\" , \"maria\" , \"joana\"]\n",
        "del lista1[-1]\n",
        "print(lista1)\n"
      ],
      "metadata": {
        "colab": {
          "base_uri": "https://localhost:8080/",
          "height": 0
        },
        "id": "fHKe626rPIZP",
        "outputId": "6935638b-7a45-43dc-9ec9-f5e1e827d5d8"
      },
      "execution_count": 8,
      "outputs": [
        {
          "output_type": "stream",
          "name": "stdout",
          "text": [
            "['joao', 'maria', 'joana']\n",
            "<class 'list'>\n",
            "['5', 'joao', 'maria', 'joana']\n",
            "['5', 'joao', 'maria', 'joana', '6']\n",
            "<class 'set'>\n",
            "<class 'list'>\n",
            "<class 'tuple'>\n",
            "5\n",
            "['joao', 'maria', 'joana', 'joao', 'maria', 'joana']\n",
            "['maria', 'joana']\n",
            "[1]\n"
          ]
        }
      ]
    },
    {
      "cell_type": "code",
      "source": [
        "lista1 = [ \"joao\" , \"maria\" , \"joana\"]\n",
        "for x in lista1:\n",
        "  print(x)\n",
        "  # range  PROVA \n",
        "lista1 = [ \"1\" , \"2\" , \"3\", \"4\", \"5\", \"6\"]\n",
        "for i in range(len(lista1)):\n",
        "  print(lista1[3:6])"
      ],
      "metadata": {
        "colab": {
          "base_uri": "https://localhost:8080/",
          "height": 0
        },
        "id": "QSt2eq8kRukB",
        "outputId": "13e4eb50-6527-4f11-df0c-2f6be66c191c"
      },
      "execution_count": 9,
      "outputs": [
        {
          "output_type": "stream",
          "name": "stdout",
          "text": [
            "joao\n",
            "maria\n",
            "joana\n",
            "['4', '5', '6']\n",
            "['4', '5', '6']\n",
            "['4', '5', '6']\n",
            "['4', '5', '6']\n",
            "['4', '5', '6']\n",
            "['4', '5', '6']\n"
          ]
        }
      ]
    },
    {
      "cell_type": "code",
      "source": [
        "lista1 = [ \"joao\" , \"maria\" , \"joana\"]\n",
        "lista2 = [ \"1\" , \"2\" , \"3\", \"4\", \"5\", \"6\"]\n",
        "lista1.extend(lista2)\n",
        "print(lista1)\n",
        "lista1.remove(\"1\")\n",
        "print(lista1)\n",
        "lista1.pop(-1)\n",
        "print(lista1)\n",
        "lista1.append(\"oi\")\n",
        "print(lista1)\n",
        "del lista1[-1]\n",
        "print(lista1)\n",
        "lista1.insert(0,\"5\")\n",
        "print(lista1)\n"
      ],
      "metadata": {
        "colab": {
          "base_uri": "https://localhost:8080/"
        },
        "id": "cilz6sSFty8x",
        "outputId": "a92022c7-1f67-4fc1-da14-1db6bba97089"
      },
      "execution_count": 55,
      "outputs": [
        {
          "output_type": "stream",
          "name": "stdout",
          "text": [
            "['joao', 'maria', 'joana', '1', '2', '3', '4', '5', '6']\n",
            "['joao', 'maria', 'joana', '2', '3', '4', '5', '6']\n",
            "['joao', 'maria', 'joana', '2', '3', '4', '5']\n",
            "['joao', 'maria', 'joana', '2', '3', '4', '5', 'oi']\n",
            "['joao', 'maria', 'joana', '2', '3', '4', '5']\n",
            "['5', 'joao', 'maria', 'joana', '2', '3', '4', '5']\n"
          ]
        }
      ]
    },
    {
      "cell_type": "code",
      "source": [
        "\n",
        "\n",
        "# range \n",
        "lista1 = [ \"joao\" , \"maria\" , \"joana\"]\n",
        "for i in range(len(lista1)):\n",
        "  print(lista1[1:3])\n",
        "\n",
        "# range \n",
        "lista1 = [ \"joao\" , \"maria\" , \"joana\"]\n",
        "for i in range(len(lista1)):\n",
        "  print(lista1[i])\n",
        "\n",
        "\n"
      ],
      "metadata": {
        "colab": {
          "base_uri": "https://localhost:8080/"
        },
        "id": "lFy7ITFC-kS7",
        "outputId": "0aef928e-cc2c-4909-de36-d2c63fe2d594"
      },
      "execution_count": 27,
      "outputs": [
        {
          "output_type": "stream",
          "name": "stdout",
          "text": [
            "['maria', 'joana']\n",
            "['maria', 'joana']\n",
            "['maria', 'joana']\n",
            "joao\n",
            "maria\n",
            "joana\n"
          ]
        }
      ]
    },
    {
      "cell_type": "code",
      "source": [
        "\n",
        "nome =  \" meu nome é maria\"\n",
        "print(nome[::-1])\n",
        "Lista = [ \"M\", \"A\", \"R\", \"I\",\"A\"]\n",
        "Lista.reverse()\n",
        "print(Lista)\n"
      ],
      "metadata": {
        "colab": {
          "base_uri": "https://localhost:8080/"
        },
        "id": "JL-56X_cA36R",
        "outputId": "2024793e-fcca-440d-efee-ff115bb20115"
      },
      "execution_count": 39,
      "outputs": [
        {
          "output_type": "stream",
          "name": "stdout",
          "text": [
            "airam é emon uem \n",
            "['A', 'I', 'R', 'A', 'M']\n"
          ]
        }
      ]
    },
    {
      "cell_type": "code",
      "source": [
        "#receber 10 numero  (float(input(\"infome um numero\")))  () prova \n",
        "#armazenar a = (float(input(\"infome um numero\")))\n",
        "#percorrer e somar \n",
        "#imprimir a sma \n",
        "\n",
        "\n",
        "lista1= [ ]   #criar uma lista vazia \n",
        "\n",
        "for x in range (10):   #coloco o limite de 10\n",
        "  a = (float(input(\"infome um numero\")))  #recebo valor \n",
        "  lista1.append(a)  #acrescentar valor na lista \n",
        "\n",
        "  print(lista1) # imprimo a lista "
      ],
      "metadata": {
        "id": "xACbdaRVI2Ji"
      },
      "execution_count": null,
      "outputs": []
    },
    {
      "cell_type": "code",
      "source": [
        "lista = []\n",
        "for x in range (5):\n",
        " y = (int(input(\"informe um numero\")))\n",
        " lista.append(y)\n",
        "print(lista)\n"
      ],
      "metadata": {
        "colab": {
          "base_uri": "https://localhost:8080/"
        },
        "id": "F3-EyS1cI3Fx",
        "outputId": "32ea916e-de2e-4c14-82c1-4d8dfa5764ac"
      },
      "execution_count": 47,
      "outputs": [
        {
          "output_type": "stream",
          "name": "stdout",
          "text": [
            "informe um numero5\n",
            "informe um numero4\n",
            "informe um numero3\n",
            "informe um numero2\n",
            "informe um numero1\n",
            "[5, 4, 3, 2, 1]\n"
          ]
        }
      ]
    },
    {
      "cell_type": "code",
      "source": [
        "nota = []\n",
        "for x in range (3):\n",
        "  a = (float(input(\"digite sua nota\")))\n",
        "  nota.append(a)\n",
        "  b = max(nota)\n",
        "\n",
        "print(f' {nota} sua nota mais alta é : {b} ')"
      ],
      "metadata": {
        "colab": {
          "base_uri": "https://localhost:8080/"
        },
        "id": "XkhAbldkJ9qX",
        "outputId": "ffa3bfac-c6c4-4daf-de91-f3ac41d0ca89"
      },
      "execution_count": 54,
      "outputs": [
        {
          "output_type": "stream",
          "name": "stdout",
          "text": [
            "digite sua nota10\n",
            "digite sua nota9.8\n",
            "digite sua nota9.9\n",
            " [10.0, 9.8, 9.9] sua nota mais alta é : 10.0 \n"
          ]
        }
      ]
    },
    {
      "cell_type": "code",
      "source": [
        "# funções \" mini- programas que recebem informações ( PARAMETRO) e executa uma tarefa especifica, podemdodevolver um resultadfo\"\n",
        "DEf nome_função ( parametro):\n",
        "return valor / variavel "
      ],
      "metadata": {
        "id": "iExZjflRV5X1"
      },
      "execution_count": null,
      "outputs": []
    },
    {
      "cell_type": "code",
      "source": [
        "def hipotenusa ( ):\n",
        " A =  ( ca ** 2 + co ** 2 ) \n",
        " B = A ** 0.5\n",
        " return B\n",
        "\n",
        "ca = float(input(\"digite  o valor do cateto oposto\"))\n",
        "co = float(input(\"digite  o valor do cateto adjacente\" ))\n",
        "\n",
        "hipotenusa ( )\n",
        "print(f\" o valor da hipotenusa é : { hipotenusa ( )} \"  )  # chamar a função no print \" {} \""
      ],
      "metadata": {
        "id": "YOxIEDiPV6a5"
      },
      "execution_count": null,
      "outputs": []
    },
    {
      "cell_type": "code",
      "source": [
        "# crie uma função que receba 4 lados de um quadrilatero e retorne o  quadrado , e se todos forem iguais  , se 2 = retangulo , se  4 = quadrado \n",
        "# triangulo area \n",
        "\n",
        "def area( ):\n",
        "  \n",
        "   area =  ((base * altura )/2)\n",
        "   return area \n",
        "\n",
        "altura = float(input(\"digite  o valor da altura de um tringulo\"))\n",
        "base = float(input(\"digite  o valor da base  de um tringulo\"))\n",
        "\n",
        "print(f\" a area do triangulo é { area ( ) } \")\n"
      ],
      "metadata": {
        "id": "E_jH7Ef2WaaZ"
      },
      "execution_count": null,
      "outputs": []
    },
    {
      "cell_type": "code",
      "source": [
        "def area():\n",
        "  area = (base * altura)/2\n",
        "  return area\n",
        "altura = float(input(\"digite  o valor da altura de um tringulo\"))\n",
        "base = float(input(\"digite  o valor da base  de um tringulo\"))\n",
        "print(f\" a area do triangulo é { area ( ) } \")\n",
        "\n"
      ],
      "metadata": {
        "colab": {
          "base_uri": "https://localhost:8080/"
        },
        "id": "RO1OIB4uXS1R",
        "outputId": "60a1513a-a866-46b1-cb9d-572cbea7f40f"
      },
      "execution_count": 59,
      "outputs": [
        {
          "output_type": "stream",
          "name": "stdout",
          "text": [
            "digite  o valor da altura de um tringulo10\n",
            "digite  o valor da base  de um tringulo5\n",
            " a area do triangulo é 25.0 \n"
          ]
        }
      ]
    },
    {
      "cell_type": "code",
      "source": [
        " def nome():\n",
        "  area = (base * altura)/2\n",
        "  return nome()\n",
        " altura = float(input(\"digite  o valor da altura de um tringulo\"))\n",
        " base = float(input(\"digite  o valor da base  de um tringulo\"))\n",
        " \n",
        " print(f\" a area do triangulo é { area ( ) } \")\n"
      ],
      "metadata": {
        "colab": {
          "base_uri": "https://localhost:8080/"
        },
        "id": "HLIebK3Bc2VO",
        "outputId": "f021caad-102a-4abd-f3da-b6f304a31ff3"
      },
      "execution_count": 61,
      "outputs": [
        {
          "output_type": "stream",
          "name": "stdout",
          "text": [
            "digite  o valor da altura de um tringulo10\n",
            "digite  o valor da base  de um tringulo10\n",
            " a area do triangulo é 50.0 \n"
          ]
        }
      ]
    },
    {
      "cell_type": "code",
      "source": [
        "def medida: \n",
        "  "
      ],
      "metadata": {
        "id": "spMwivCJrPfJ"
      },
      "execution_count": null,
      "outputs": []
    }
  ]
}