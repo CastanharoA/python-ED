{
  "nbformat": 4,
  "nbformat_minor": 0,
  "metadata": {
    "colab": {
      "name": "Parte 2 - lista1",
      "provenance": [],
      "authorship_tag": "ABX9TyMZCYyfehOT0cQy1RjL1hEF",
      "include_colab_link": true
    },
    "kernelspec": {
      "name": "python3",
      "display_name": "Python 3"
    },
    "language_info": {
      "name": "python"
    }
  },
  "cells": [
    {
      "cell_type": "markdown",
      "metadata": {
        "id": "view-in-github",
        "colab_type": "text"
      },
      "source": [
        "<a href=\"https://colab.research.google.com/github/CastanharoA/python-ED/blob/main/Parte_2_lista1.ipynb\" target=\"_parent\"><img src=\"https://colab.research.google.com/assets/colab-badge.svg\" alt=\"Open In Colab\"/></a>"
      ]
    },
    {
      "cell_type": "markdown",
      "source": [
        "Nome da estudante: ANDREIA MESQUITA FONSECA CASTANHARO\n",
        "Lista 1 "
      ],
      "metadata": {
        "id": "Iiicgj3zWgLt"
      }
    },
    {
      "cell_type": "markdown",
      "source": [
        "1.ª) Faça um programa que leia dois valores e informe a média entre eles.\n"
      ],
      "metadata": {
        "id": "cETEY4k_23fd"
      }
    },
    {
      "cell_type": "code",
      "source": [
        "valor1 = float(input(\"digite um numero: \"))\n",
        "valor2  = float(input(\"digite um segundo numero: \"))\n",
        "resultado = (valor1 + valor2) /2\n",
        "print(\"a média dos numeros digitados é\", resultado)\n"
      ],
      "metadata": {
        "colab": {
          "base_uri": "https://localhost:8080/"
        },
        "id": "0oL7xQxG25Fw",
        "outputId": "dba5ca29-19fc-49af-8d1f-9c39e99abbec"
      },
      "execution_count": null,
      "outputs": [
        {
          "output_type": "stream",
          "name": "stdout",
          "text": [
            "digite um numero: 10.6\n",
            "digite um segundo numero: 22.5\n",
            "a média dos numeros digitados é 16.55\n"
          ]
        }
      ]
    },
    {
      "cell_type": "markdown",
      "source": [
        "2.ª) Faça um programa que receba peso e altura e calcule o IMC pela fórmula:\n",
        "\n",
        "IMC = Peso ÷ (Altura × Altura).\n",
        "\n"
      ],
      "metadata": {
        "id": "V1g8C6BE5ETo"
      }
    },
    {
      "cell_type": "code",
      "source": [
        "peso =float(input(\" Digite o seu peso:  \"))\n",
        "altura =float(input (\"Digite a sua altura:  \"))\n",
        "IMC = peso / (altura * altura)\n",
        "#print(IMC)\n",
        "\n",
        "if IMC < 18.5:\n",
        "  print(f' Seu IMC é {IMC} Abaixo do peso normal')\n",
        "elif IMC > 18.5 and  IMC <  24.9:\n",
        "  print(f' Seu IMC é {IMC} Peso normal')\n",
        "elif IMC > 25 and  IMC <  29.9:\n",
        "  print(f' Seu IMC é {IMC}, representa sobrepeso')\n",
        "elif IMC > 30 and  IMC <  34.9:\n",
        "  print(f' Seu IMC é {IMC}, representa uma obesidade grau 1')\n",
        "elif IMC > 35 and  IMC <  39.9:\n",
        "  print(f' Seu IMC é {IMC}, representa uma obesidade grau 2')\n",
        "else:\n",
        "  print(f' Seu IMC é {IMC} , representa uma obesidade grau 3')\n",
        "     \n"
      ],
      "metadata": {
        "colab": {
          "base_uri": "https://localhost:8080/"
        },
        "id": "JkulBS0Q5p_m",
        "outputId": "97641bcb-68db-4271-d269-ea7c20ab8dcf"
      },
      "execution_count": null,
      "outputs": [
        {
          "output_type": "stream",
          "name": "stdout",
          "text": [
            " Digite o seu peso:  70\n",
            "Digite a sua altura:  1.60\n",
            " Seu IMC é 27.343749999999996, representa sobrepeso\n"
          ]
        }
      ]
    },
    {
      "cell_type": "markdown",
      "source": [
        "3.ª) Calcular e apresentar o valor do volume de uma lata de óleo, utilizando a fórmula: VOLUME = 3.14159 * R2 * ALTURA."
      ],
      "metadata": {
        "id": "DDidybe-5QDm"
      }
    },
    {
      "cell_type": "code",
      "source": [
        "# Pi = 3,14\n",
        "altura = float(input('qual  altura de oleo? '))\n",
        "raio = float(input('qual o raio da circunferencia da  lata de oleo? '))\n",
        "raiofim = raio ** 2 \n",
        "volume = 3.14159 * raiofim * altura\n",
        "print( \"o volume da sua lata de oleo é\" , volume)"
      ],
      "metadata": {
        "colab": {
          "base_uri": "https://localhost:8080/"
        },
        "id": "qr-k_ifu5ECM",
        "outputId": "470ee2f2-c3b1-43aa-fb06-a02f0c48a21e"
      },
      "execution_count": null,
      "outputs": [
        {
          "output_type": "stream",
          "name": "stdout",
          "text": [
            "qual  altura de oleo? 10\n",
            "qual o raio da circunferencia da  lata de oleo? 20\n",
            "o volume da sua lata de oleo é 12566.36\n"
          ]
        }
      ]
    },
    {
      "cell_type": "markdown",
      "source": [
        "4.ª) Faça um programa que leia 5 valores e informe o valor do maior.\n"
      ],
      "metadata": {
        "id": "T0qsSBDb5RYi"
      }
    },
    {
      "cell_type": "code",
      "source": [
        "lista1= [ ]   #criar uma lista vazia \n",
        "\n",
        "for valor in range (5):   #coloco o limite de 5\n",
        "  valor = float(input(\"digite um valor\")) #recebo valor \n",
        "  lista1.append(valor)  #acrescentar valor na lista \n",
        "  valormaior = max(lista1)\n",
        "print(lista1)\n",
        "#print(max(lista1)\n",
        "print( \"o maior valor da lista é:,\" ,valormaior)\n"
      ],
      "metadata": {
        "colab": {
          "base_uri": "https://localhost:8080/"
        },
        "id": "2HnxXCum5rGT",
        "outputId": "63bdeee0-1c3b-469f-a9a6-83dea62ec8ca"
      },
      "execution_count": null,
      "outputs": [
        {
          "output_type": "stream",
          "name": "stdout",
          "text": [
            "digite um valor10\n",
            "digite um valor9\n",
            "digite um valor9\n",
            "digite um valor9\n",
            "digite um valor9\n",
            "[10.0, 9.0, 9.0, 9.0, 9.0]\n",
            "o maior valor da lista é:, 10.0\n"
          ]
        }
      ]
    },
    {
      "cell_type": "markdown",
      "source": [
        "5.ª) Solicitar o consumo médio de um veículo, bem como o tempo de viagem e a velocidade média. Com base nestas informações:\n",
        "\n",
        "Efetuar o cálculo da quantidade de litros de combustível gastos em uma viagem, utilizando-se um automóvel que faz “x” km/l.\n",
        "\n",
        "Para obter o cálculo, o usuário deverá fornecer o tempo gasto na viagem e a velocidade média durante a mesma.\n",
        "\n",
        "Desta forma será possível obter a distância percorrida com a fórmula: DISTÂNCIA= TEMPO * VELOCIDADE. Tendo o valor da distância, basta calcular a quantidade de litros de combustível utilizada na viagem com a fórmula: LITROS_USADOS=DISTÂNCIA / “x”. O programa deverá apresentar os valores da velocidade média, tempo gasto na viagem, a distância percorrida e a quantidade de litros utilizada na viagem."
      ],
      "metadata": {
        "id": "i4Yiuig-5R_k"
      }
    },
    {
      "cell_type": "code",
      "source": [
        "#Solicitar o consumo médio de um veículo, bem como o tempo de viagem e a velocidade média\n",
        "consumo = float(input(\"qual é consumo médio de um veículo ? \"))\n",
        "tempo_viagem = float(input(\"qual é o  tempo de viagem ? \"))\n",
        "velocidade_media =  float(input(\"qual é a média de velocidade ? \"))\n",
        "\n",
        "distancia = tempo_viagem * velocidade_media\n",
        "litros =  distancia / consumo\n",
        "\n",
        "print(litros)\n",
        "# velocidade média, tempo gasto na viagem, a distância percorrida e a quantidade de litros utilizada na viagem.\n",
        "#print(f\"em uma viagem em velocidade média de {velocidade_media} tempo gasto na viagem de {tempo_viagem} em uma distância percorrida de {distancia} a quantidade de litros utilizada na viagem sera de {litros} \")\n",
        "\n"
      ],
      "metadata": {
        "colab": {
          "base_uri": "https://localhost:8080/"
        },
        "id": "JLxohZoON1mf",
        "outputId": "095c926d-c835-4e83-8748-228c69819368"
      },
      "execution_count": null,
      "outputs": [
        {
          "output_type": "stream",
          "name": "stdout",
          "text": [
            "qual é consumo médio de um veículo ? 8\n",
            "qual é o  tempo de viagem ? 5\n",
            "qual é a média de velocidade ? 10\n",
            "6.25\n",
            "em uma viagem em velocidade média de 10.0\n",
            "tempo gasto na viagem de  5.0\n",
            " em uma distância percorrida de 50.0\n",
            "a quantidade de litros utilizada na viagem sera de 6.25\n"
          ]
        }
      ]
    },
    {
      "cell_type": "code",
      "source": [
        "\n",
        "print(f\"em uma viagem em velocidade média de  {velocidade_media} km/h\")\n",
        "print(f\"tempo gasto na viagem de, { tempo_viagem } minutos \" )\n",
        "print(f\" em uma distância percorrida de {distancia} metros\")\n",
        "print(f\"a quantidade de litros utilizada na viagem sera de\", litros)\n",
        "print(f\" seu veiculo faz {consumo} por litro \")\n"
      ],
      "metadata": {
        "colab": {
          "base_uri": "https://localhost:8080/",
          "height": 235
        },
        "id": "8Qv3l3qbUi9z",
        "outputId": "fdda8c79-0be4-4998-c72e-0989610847cf"
      },
      "execution_count": null,
      "outputs": [
        {
          "output_type": "error",
          "ename": "NameError",
          "evalue": "ignored",
          "traceback": [
            "\u001b[0;31m---------------------------------------------------------------------------\u001b[0m",
            "\u001b[0;31mNameError\u001b[0m                                 Traceback (most recent call last)",
            "\u001b[0;32m<ipython-input-5-31f3bd005707>\u001b[0m in \u001b[0;36m<module>\u001b[0;34m()\u001b[0m\n\u001b[1;32m      1\u001b[0m \u001b[0;34m\u001b[0m\u001b[0m\n\u001b[0;32m----> 2\u001b[0;31m \u001b[0mprint\u001b[0m\u001b[0;34m(\u001b[0m\u001b[0;34mf\"em uma viagem em velocidade média de  {velocidade_media} km/h\"\u001b[0m\u001b[0;34m)\u001b[0m\u001b[0;34m\u001b[0m\u001b[0;34m\u001b[0m\u001b[0m\n\u001b[0m\u001b[1;32m      3\u001b[0m \u001b[0mprint\u001b[0m\u001b[0;34m(\u001b[0m\u001b[0;34mf\"tempo gasto na viagem de, { tempo_viagem } minutos \"\u001b[0m \u001b[0;34m)\u001b[0m\u001b[0;34m\u001b[0m\u001b[0;34m\u001b[0m\u001b[0m\n\u001b[1;32m      4\u001b[0m \u001b[0mprint\u001b[0m\u001b[0;34m(\u001b[0m\u001b[0;34mf\" em uma distância percorrida de {distancia} metros\"\u001b[0m\u001b[0;34m)\u001b[0m\u001b[0;34m\u001b[0m\u001b[0;34m\u001b[0m\u001b[0m\n\u001b[1;32m      5\u001b[0m \u001b[0mprint\u001b[0m\u001b[0;34m(\u001b[0m\u001b[0;34mf\"a quantidade de litros utilizada na viagem sera de\"\u001b[0m\u001b[0;34m,\u001b[0m \u001b[0mlitros\u001b[0m\u001b[0;34m)\u001b[0m\u001b[0;34m\u001b[0m\u001b[0;34m\u001b[0m\u001b[0m\n",
            "\u001b[0;31mNameError\u001b[0m: name 'velocidade_media' is not defined"
          ]
        }
      ]
    }
  ]
}