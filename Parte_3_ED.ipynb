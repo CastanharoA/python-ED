{
  "nbformat": 4,
  "nbformat_minor": 0,
  "metadata": {
    "colab": {
      "name": "Parte 3 - ED ",
      "provenance": [],
      "collapsed_sections": [],
      "authorship_tag": "ABX9TyNOmDC6PZb5wjYCoQWe3ygD",
      "include_colab_link": true
    },
    "kernelspec": {
      "name": "python3",
      "display_name": "Python 3"
    },
    "language_info": {
      "name": "python"
    }
  },
  "cells": [
    {
      "cell_type": "markdown",
      "metadata": {
        "id": "view-in-github",
        "colab_type": "text"
      },
      "source": [
        "<a href=\"https://colab.research.google.com/github/CastanharoA/python-ED/blob/main/Parte_3_ED.ipynb\" target=\"_parent\"><img src=\"https://colab.research.google.com/assets/colab-badge.svg\" alt=\"Open In Colab\"/></a>"
      ]
    },
    {
      "cell_type": "code",
      "execution_count": null,
      "metadata": {
        "id": "E_VwOl54OQD4"
      },
      "outputs": [],
      "source": [
        "# funções \" mini- programas que recebem informações ( PARAMETRO) e executa uma tarefa especifica, podemdodevolver um resultadfo\"\n",
        "DEf nome_função ( parametro):\n",
        "return valor / variavel "
      ]
    },
    {
      "cell_type": "code",
      "source": [
        "#recebe cateto e devolva hipotenisa \n",
        "hip2 = cat.op2 + cat.adj\n",
        "hip =v--- cat 2 + cat 2 "
      ],
      "metadata": {
        "id": "GMb9ynf9O3pi"
      },
      "execution_count": null,
      "outputs": []
    },
    {
      "cell_type": "code",
      "source": [
        "def hipotenusa ( ):\n",
        "\n",
        " A =  ( ca ** 2 + co ** 2 ) \n",
        " B = A ** 0.5\n",
        " return B\n",
        "\n",
        "ca = float(input(\"digite  o valor do cateto oposto\"))\n",
        "co = float(input(\"digite  o valor do cateto adjacente\" ))\n",
        "\n",
        "\n",
        "hipotenusa ( )\n",
        "print(f\" o valor da hipotenusa é : { hipotenusa ( )} \"  )  # chamar a função no print \" {} \""
      ],
      "metadata": {
        "colab": {
          "base_uri": "https://localhost:8080/"
        },
        "id": "r1RQ5tNwPO64",
        "outputId": "88ec7fe6-3941-4e89-8d12-3974f270e4d3"
      },
      "execution_count": null,
      "outputs": [
        {
          "output_type": "stream",
          "name": "stdout",
          "text": [
            "digite  o valor do cateto oposto3\n",
            "digite  o valor do cateto adjacente4\n",
            " o valor da hipotenusa é : 5.0 \n"
          ]
        }
      ]
    },
    {
      "cell_type": "code",
      "source": [
        "  hipotenusa =  (( ca ** 2 + co ** 2 ) ** 0.5 ) # deu certo mas nao na função \n",
        "\n",
        "  \n",
        "ca = float(input(\"digite  o valor do cateto oposto\"))\n",
        "co = float(input(\"digite  o valor do cateto adjacente\" ))\n",
        "print( \" o valor da hipotenusa é : \" , hipotenusa)\n"
      ],
      "metadata": {
        "colab": {
          "base_uri": "https://localhost:8080/"
        },
        "id": "kdiYx3gpR9ZZ",
        "outputId": "ce5a21c6-e031-416d-f98e-212a8ee6aa2b"
      },
      "execution_count": null,
      "outputs": [
        {
          "output_type": "stream",
          "name": "stdout",
          "text": [
            "digite  o valor do cateto oposto3\n",
            "digite  o valor do cateto adjacente4\n",
            " o valor da hipotenusa é :  5.0\n"
          ]
        }
      ]
    },
    {
      "cell_type": "code",
      "source": [
        "fatorial  # creat a module ( função )  nome.DUNÇÃO  sqrt() "
      ],
      "metadata": {
        "id": "EE6PbAoVQ7Fk"
      },
      "execution_count": null,
      "outputs": []
    },
    {
      "cell_type": "code",
      "source": [
        "import mumodule as mn\n",
        "\n",
        "module.hipotenusa( )"
      ],
      "metadata": {
        "id": "L9-Q78raSIze"
      },
      "execution_count": null,
      "outputs": []
    },
    {
      "cell_type": "code",
      "source": [
        "def hipotenusa ( ):\n",
        "  import math\n",
        "\n",
        "  A =  math.sqrt( ca**2 + co**2 )\n",
        "  return A\n",
        "\n",
        "ca = float(input(\"digite  o valor do cateto oposto\"))\n",
        "co = float(input(\"digite  o valor do cateto adjacente\" ))\n",
        "\n",
        "\n",
        "print(f\" o valor da hipotenusa é : { hipotenusa  () } \"  )  # chamar a função no print \" {} \""
      ],
      "metadata": {
        "colab": {
          "base_uri": "https://localhost:8080/"
        },
        "id": "26NLPIXhVaIZ",
        "outputId": "146f4b26-4e28-4d36-ff11-5c617fd12a8c"
      },
      "execution_count": null,
      "outputs": [
        {
          "output_type": "stream",
          "name": "stdout",
          "text": [
            "digite  o valor do cateto oposto3\n",
            "digite  o valor do cateto adjacente4\n",
            " o valor da hipotenusa é : 5.0 \n"
          ]
        }
      ]
    },
    {
      "cell_type": "code",
      "source": [
        "def hipotenusa ( ):\n",
        "  import math\n",
        "\n",
        "  A = ( ca ** 2 + co ** 2 )\n",
        "  math.sqrt(A)\n",
        "  return A\n",
        "\n",
        "ca = float(input(\"digite  o valor do cateto oposto\"))\n",
        "co = float(input(\"digite  o valor do cateto adjacente\" ))\n",
        "\n",
        "\n",
        "print(f\" o valor da hipotenusa é : { hipotenusa ( ) } \"  )  # chamar a função no print \" {} \""
      ],
      "metadata": {
        "colab": {
          "base_uri": "https://localhost:8080/"
        },
        "id": "nShKNfvOXKtx",
        "outputId": "633b6de5-a4a7-4e44-cbe7-706e7a85d78b"
      },
      "execution_count": null,
      "outputs": [
        {
          "output_type": "stream",
          "name": "stdout",
          "text": [
            "digite  o valor do cateto oposto3\n",
            "digite  o valor do cateto adjacente4\n",
            " o valor da hipotenusa é : 25.0 \n"
          ]
        }
      ]
    },
    {
      "cell_type": "code",
      "source": [
        "# crie uma função que receba 4 lados de um quadrilatero e retorne o  quadrado , e se todos forem iguais  , se 2 = retangulo , se  4 = quadrado \n",
        "# triangulo area \n",
        "\n",
        "def area( ):\n",
        "  \n",
        "   area =  ((base * altura )/2)\n",
        "   return area \n",
        "\n",
        "altura = float(input(\"digite  o valor da altura de um tringulo\"))\n",
        "base = float(input(\"digite  o valor da base  de um tringulo\"))\n",
        "\n",
        "print(f\" a area do triangulo é { area ( ) } \")\n"
      ],
      "metadata": {
        "colab": {
          "base_uri": "https://localhost:8080/"
        },
        "id": "Vyt6NRxIYs9R",
        "outputId": "7027ebc7-61c4-4dc0-bc2e-e4e7cfaf2183"
      },
      "execution_count": null,
      "outputs": [
        {
          "output_type": "stream",
          "name": "stdout",
          "text": [
            "digite  o valor da altura de um tringulo4\n",
            "digite  o valor da base  de um tringulo5\n",
            " a area do triangulo é 10.0 \n"
          ]
        }
      ]
    },
    {
      "cell_type": "code",
      "source": [
        "\n",
        "\n",
        "altura = float(input(\"digite  o valor da altura de um tringulo\"))\n",
        "base = float(input(\"digite  o valor da base  de um tringulo\"))\n",
        "\n",
        "def area(base,altura):\n",
        "   area =  ((base * altura )/2)\n",
        "   return area\n",
        "   \n",
        "print(f\" a area do triangulo é { area(base,altura)} \")\n"
      ],
      "metadata": {
        "colab": {
          "base_uri": "https://localhost:8080/"
        },
        "id": "x03oQm4Mb1Oq",
        "outputId": "c2301b50-d5ba-4154-e80d-9dc4eb4c10a5"
      },
      "execution_count": null,
      "outputs": [
        {
          "output_type": "stream",
          "name": "stdout",
          "text": [
            "digite  o valor da altura de um tringulo3.5\n",
            "digite  o valor da base  de um tringulo3.5\n",
            " a area do triangulo é 6.125 \n"
          ]
        }
      ]
    },
    {
      "cell_type": "code",
      "source": [
        "#pilha e filas \n"
      ],
      "metadata": {
        "id": "S1SnMCLTi7yh"
      },
      "execution_count": null,
      "outputs": []
    },
    {
      "cell_type": "markdown",
      "source": [
        " conceito  \n",
        " \n",
        " \n",
        " pilhas :  3 operações \n",
        " 1. add elemento  = push ( eu empurro para receber um novo  elemento )\n",
        "\n",
        " add = push \n",
        "\n",
        " função push ( parametro o que quer inserir um elemento )\n",
        "\n",
        "\n",
        "2. remove o do topo \n",
        "\n",
        "pop = remove o elemento no topo da pilha \n",
        "\n",
        "3. top \n",
        "\n",
        "nos da a informação do elemento que esta no top \n",
        "\n",
        "top = informa \n",
        "\n",
        "4. is_empty \n",
        "\n",
        "verificar se apilha esta vazia \n",
        "\n",
        "a resposta sera V ou F \n",
        "\n",
        "5. is_full avisa se ta cheira\n",
        "\n",
        "\n",
        "-\n",
        "pilha é um tipo de lista  con o conceito de ordenação de retidatae entrada de objeto \n",
        "\n",
        "LIFO \n",
        "\n",
        "last\n",
        "\n",
        "in\n",
        "\n",
        "first\n",
        "\n",
        "out\n",
        "\n",
        "\n",
        "o ultimo a entrar é o primeiro a sair \n",
        "\n",
        "\n",
        "utilização : Ex ctrl Z ( undo )\n",
        "\n",
        "usa uma pilha pra guardar os itens digitados \n",
        "\n",
        "       A B  * usar lista ( consigo mudar os elementos ) \n",
        "\n",
        "\n",
        "       o ctrl z apaga o B ( a ultima omformação  que entrou )\n",
        "\n",
        "       o ctrl y restaura a ultima informação apagada  , nova pilha de desfeitas\n",
        "\n",
        "\n",
        "\n",
        "       em uma pilha o ultimo elemento a ser inserido (  empilhado  ) é o \n",
        "       primeio a ser removido ( desempilhado ) . eles tem uma estrutura LIFO ( last to in is the First go out ) \n",
        "\n",
        "       control Z = pop \n",
        "\n",
        "       e na pilha de desfeitas \n",
        "       Push \n",
        "\n",
        "\n",
        "\n",
        "\n",
        "\n",
        "\n",
        "\n",
        "\n",
        " filas \n",
        "\n",
        "\n",
        "\n",
        "\n",
        "\n"
      ],
      "metadata": {
        "id": "bxB3c89JjHbY"
      }
    },
    {
      "cell_type": "code",
      "source": [
        ""
      ],
      "metadata": {
        "id": "W5dUDZ2_jXVA"
      },
      "execution_count": null,
      "outputs": []
    },
    {
      "cell_type": "markdown",
      "source": [
        ""
      ],
      "metadata": {
        "id": "NlpD5g1OpRrR"
      }
    },
    {
      "cell_type": "markdown",
      "source": [
        "pila e listas \n",
        "\n",
        "adicionar elementos na lista \n",
        "primeiro criaar uma lista \n",
        "\n",
        "para fazsr um push  = appende \n",
        "appemd(push) \n",
        "remover = pop \n",
        "consulta top  print[:-1]\n",
        "ultimo elemento  lisra [:-1]\n",
        "\n",
        "append + 1 append[1] = ( 0 , 1 ) "
      ],
      "metadata": {
        "id": "mdhNWrlfpRvK"
      }
    },
    {
      "cell_type": "code",
      "source": [
        "# digitar um numero inteiro positivo em decimal e mostrar numero no sostema binario \n",
        "\n",
        "#para converter um numero decimal para o binario, divemos- dividi-lo por 2 ate conseguir o 0, o elemento restante  devo invrter os quuoeficientes restantes \n",
        "\n",
        "1011 o valor binario ´w 1101\n",
        "13/2 6 resto 1   6/2 3 resto 0 3/2 =1 resto 1  =  1011 , recupera de foram inversa 1101\n"
      ],
      "metadata": {
        "id": "s7zPNszWsGfx"
      },
      "execution_count": null,
      "outputs": []
    },
    {
      "cell_type": "code",
      "source": [
        "lifo = gestao de estoque \n",
        "fifo = fila \n",
        "\n"
      ],
      "metadata": {
        "id": "j0dsMFcXtm6Q"
      },
      "execution_count": null,
      "outputs": []
    },
    {
      "cell_type": "code",
      "source": [
        "criar função \n",
        "pilha \n",
        "lista \n",
        "fila \n",
        "\n",
        "laço de repetição \n",
        "estrutua em função \n"
      ],
      "metadata": {
        "id": "93Kurpq-xCqh"
      },
      "execution_count": null,
      "outputs": []
    },
    {
      "cell_type": "markdown",
      "source": [
        "Fila \n",
        "\n",
        "FIFO 9 FIRST IN FIRST OUT \n",
        "fila  = ordem de chegada \n",
        "primeiro que entrou é o primeiro a sair \n",
        "\n",
        "enfileirar = enqueue = inserir novo elmente no final da fila \n",
        "desinfeileirar = dequeue  retorna o elemento na primeiro posição \n",
        "\n",
        "elemento 0 é o primeiro ( mais antigo ) , sempre vou tirar o elemento 0"
      ],
      "metadata": {
        "id": "RaKqIPW1ts7I"
      }
    }
  ]
}